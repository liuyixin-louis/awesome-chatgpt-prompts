{
 "cells": [
  {
   "cell_type": "code",
   "execution_count": 4,
   "metadata": {},
   "outputs": [],
   "source": [
    "def gen_json(cmd, prompt):\n",
    "    cmds = cmd.split(\" \")\n",
    "    cmd = ' '.join([c.capitalize() for c in cmds])\n",
    "    cmds = [c.lower() for c in cmds]\n",
    "    return {\n",
    "    \"cmd\": \"_\".join(cmds),\n",
    "    \"act\": cmd,\n",
    "    \"prompt\": prompt,\n",
    "    \"tags\": [\n",
    "      \"chatgpt-prompts\"\n",
    "    ],\n",
    "    \"enable\": True\n",
    "  }"
   ]
  },
  {
   "cell_type": "code",
   "execution_count": 20,
   "metadata": {},
   "outputs": [
    {
     "data": {
      "text/plain": [
       "'{\"cmd\": \"polish_paper\", \"act\": \"Polish Paper\", \"prompt\": \"Please polish the paper:\\n\", \"tags\": [\"chatgpt-prompts\"], \"enable\": true},'"
      ]
     },
     "execution_count": 20,
     "metadata": {},
     "output_type": "execute_result"
    }
   ],
   "source": [
    "str1 = str(gen_json('polish paper', 'Please polish the paper:\\n'))\n",
    "str1= str1.replace(\"'\", '\"')\n",
    "str1 = str1.replace(\"True\", \"true\")\n",
    "str1 = str1.replace(\"\\\\n\", '\\n')\n",
    "str1 = str1 + \",\"\n",
    "str1"
   ]
  }
 ],
 "metadata": {
  "kernelspec": {
   "display_name": "base",
   "language": "python",
   "name": "python3"
  },
  "language_info": {
   "codemirror_mode": {
    "name": "ipython",
    "version": 3
   },
   "file_extension": ".py",
   "mimetype": "text/x-python",
   "name": "python",
   "nbconvert_exporter": "python",
   "pygments_lexer": "ipython3",
   "version": "3.9.13"
  },
  "orig_nbformat": 4,
  "vscode": {
   "interpreter": {
    "hash": "40d3a090f54c6569ab1632332b64b2c03c39dcf918b08424e98f38b5ae0af88f"
   }
  }
 },
 "nbformat": 4,
 "nbformat_minor": 2
}
