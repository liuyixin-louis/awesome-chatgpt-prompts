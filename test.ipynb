{
 "cells": [
  {
   "cell_type": "code",
   "execution_count": 33,
   "metadata": {},
   "outputs": [],
   "source": [
    "def gen_json(cmd, prompt):\n",
    "  cmds = cmd.split(\" \")\n",
    "  cmd = ' '.join([c.capitalize() for c in cmds])\n",
    "  cmds = [c.lower() for c in cmds]\n",
    "  tmp_dict =  {\n",
    "  \"cmd\": \"_\".join(cmds),\n",
    "  \"act\": cmd,\n",
    "  \"prompt\": prompt.replace('\\\\n', '\\n'),\n",
    "  \"tags\": [\n",
    "    \"chatgpt-prompts\"\n",
    "  ],\n",
    "  \"enable\": True\n",
    "  }\n",
    "  # str1 = str(tmp_dict)\n",
    "  # str1= str1.replace(\"'\", '\"')\n",
    "  # str1 = str1.replace(\"True\", \"true\")\n",
    "  # str1 = str1.replace(\"\\\\n\", '\\n')\n",
    "  # str1 = str1 + \",\"\n",
    "  # return str1\n",
    "  return tmp_dict"
   ]
  },
  {
   "cell_type": "code",
   "execution_count": null,
   "metadata": {},
   "outputs": [],
   "source": []
  },
  {
   "cell_type": "code",
   "execution_count": null,
   "metadata": {},
   "outputs": [],
   "source": []
  },
  {
   "cell_type": "code",
   "execution_count": 34,
   "metadata": {},
   "outputs": [],
   "source": [
    "import pandas as pd\n",
    "df = pd.read_csv('prompts.csv')\n",
    "\n",
    "to_json = []\n",
    "for i in range(len(df)):\n",
    "    action_i = df['act'][i]\n",
    "    prompt_i = df['prompt'][i]\n",
    "    to_json.append(gen_json(action_i, prompt_i))\n",
    "import json\n",
    "with open('prompts.json', 'w') as f:\n",
    "    json.dump(to_json, f)"
   ]
  }
 ],
 "metadata": {
  "kernelspec": {
   "display_name": "base",
   "language": "python",
   "name": "python3"
  },
  "language_info": {
   "codemirror_mode": {
    "name": "ipython",
    "version": 3
   },
   "file_extension": ".py",
   "mimetype": "text/x-python",
   "name": "python",
   "nbconvert_exporter": "python",
   "pygments_lexer": "ipython3",
   "version": "3.9.13"
  },
  "orig_nbformat": 4,
  "vscode": {
   "interpreter": {
    "hash": "40d3a090f54c6569ab1632332b64b2c03c39dcf918b08424e98f38b5ae0af88f"
   }
  }
 },
 "nbformat": 4,
 "nbformat_minor": 2
}
